{
  "nbformat": 4,
  "nbformat_minor": 0,
  "metadata": {
    "colab": {
      "provenance": []
    },
    "kernelspec": {
      "name": "python3",
      "display_name": "Python 3"
    },
    "language_info": {
      "name": "python"
    },
    "accelerator": "GPU",
    "gpuClass": "standard"
  },
  "cells": [
    {
      "cell_type": "code",
      "execution_count": 16,
      "metadata": {
        "id": "9Znnmlp_jiwM"
      },
      "outputs": [],
      "source": [
        "import tensorflow as tf"
      ]
    },
    {
      "cell_type": "code",
      "source": [
        "tf.__version__"
      ],
      "metadata": {
        "colab": {
          "base_uri": "https://localhost:8080/",
          "height": 37
        },
        "id": "aepdgUWokCun",
        "outputId": "97158d12-e459-4df1-9920-80f884d6efbb"
      },
      "execution_count": 17,
      "outputs": [
        {
          "output_type": "execute_result",
          "data": {
            "text/plain": [
              "'2.12.0'"
            ],
            "application/vnd.google.colaboratory.intrinsic+json": {
              "type": "string"
            }
          },
          "metadata": {},
          "execution_count": 17
        }
      ]
    },
    {
      "cell_type": "code",
      "source": [
        "## Tensor constant"
      ],
      "metadata": {
        "id": "xJ2OXLWakC0B"
      },
      "execution_count": 18,
      "outputs": []
    },
    {
      "cell_type": "code",
      "source": [
        "const = tf.constant(43)"
      ],
      "metadata": {
        "id": "FDKHDT1DkC2W"
      },
      "execution_count": 19,
      "outputs": []
    },
    {
      "cell_type": "code",
      "source": [
        "const"
      ],
      "metadata": {
        "colab": {
          "base_uri": "https://localhost:8080/"
        },
        "id": "5Daj5tLbjj_Z",
        "outputId": "d4addcfb-fb2b-43e9-a798-085fd1186dd6"
      },
      "execution_count": 20,
      "outputs": [
        {
          "output_type": "execute_result",
          "data": {
            "text/plain": [
              "<tf.Tensor: shape=(), dtype=int32, numpy=43>"
            ]
          },
          "metadata": {},
          "execution_count": 20
        }
      ]
    },
    {
      "cell_type": "code",
      "source": [
        "const.numpy()"
      ],
      "metadata": {
        "colab": {
          "base_uri": "https://localhost:8080/"
        },
        "id": "-rldEZ_3jkBs",
        "outputId": "98079557-f943-41b8-d3ab-b6a55ad241a3"
      },
      "execution_count": 21,
      "outputs": [
        {
          "output_type": "execute_result",
          "data": {
            "text/plain": [
              "43"
            ]
          },
          "metadata": {},
          "execution_count": 21
        }
      ]
    },
    {
      "cell_type": "code",
      "source": [
        "# for specific datatype\n",
        "\n",
        "const = tf.constant(43, dtype=tf.float32)\n",
        "\n",
        "const"
      ],
      "metadata": {
        "colab": {
          "base_uri": "https://localhost:8080/"
        },
        "id": "TTEzcWk5jkEB",
        "outputId": "2d16ab47-b9e5-4685-afaf-893b4965bd32"
      },
      "execution_count": 22,
      "outputs": [
        {
          "output_type": "execute_result",
          "data": {
            "text/plain": [
              "<tf.Tensor: shape=(), dtype=float32, numpy=43.0>"
            ]
          },
          "metadata": {},
          "execution_count": 22
        }
      ]
    },
    {
      "cell_type": "code",
      "source": [
        "const.numpy()"
      ],
      "metadata": {
        "colab": {
          "base_uri": "https://localhost:8080/"
        },
        "id": "T1aRnzDQm7TI",
        "outputId": "435e2054-f04a-4699-aff9-b780d8edc855"
      },
      "execution_count": 23,
      "outputs": [
        {
          "output_type": "execute_result",
          "data": {
            "text/plain": [
              "43.0"
            ]
          },
          "metadata": {},
          "execution_count": 23
        }
      ]
    },
    {
      "cell_type": "code",
      "source": [
        "\n",
        "const_mat = tf.constant([[1,3],[4,5]], dtype=tf.float32)\n",
        "\n",
        "const_mat"
      ],
      "metadata": {
        "colab": {
          "base_uri": "https://localhost:8080/"
        },
        "id": "75GFwPGYm7Vh",
        "outputId": "e93d453a-2e97-456d-8745-409bcdc5cdfe"
      },
      "execution_count": 24,
      "outputs": [
        {
          "output_type": "execute_result",
          "data": {
            "text/plain": [
              "<tf.Tensor: shape=(2, 2), dtype=float32, numpy=\n",
              "array([[1., 3.],\n",
              "       [4., 5.]], dtype=float32)>"
            ]
          },
          "metadata": {},
          "execution_count": 24
        }
      ]
    },
    {
      "cell_type": "code",
      "source": [
        "const_mat.shape"
      ],
      "metadata": {
        "colab": {
          "base_uri": "https://localhost:8080/"
        },
        "id": "N1zhFAt2m7YJ",
        "outputId": "111819ee-4bca-4172-fd44-4cbace6ab1e3"
      },
      "execution_count": 25,
      "outputs": [
        {
          "output_type": "execute_result",
          "data": {
            "text/plain": [
              "TensorShape([2, 2])"
            ]
          },
          "metadata": {},
          "execution_count": 25
        }
      ]
    },
    {
      "cell_type": "code",
      "source": [
        "const_mat.dtype"
      ],
      "metadata": {
        "colab": {
          "base_uri": "https://localhost:8080/"
        },
        "id": "6O7Onpl6m7av",
        "outputId": "90c6cee8-5d53-42bc-f442-1112fed06039"
      },
      "execution_count": 26,
      "outputs": [
        {
          "output_type": "execute_result",
          "data": {
            "text/plain": [
              "tf.float32"
            ]
          },
          "metadata": {},
          "execution_count": 26
        }
      ]
    },
    {
      "cell_type": "code",
      "source": [
        "#const_mat[0][0] = 32"
      ],
      "metadata": {
        "id": "rMtxkCuOm7dk"
      },
      "execution_count": 27,
      "outputs": []
    },
    {
      "cell_type": "markdown",
      "source": [
        "## Commonly used method"
      ],
      "metadata": {
        "id": "XobC1_HksiMv"
      }
    },
    {
      "cell_type": "code",
      "source": [
        "tf.ones(shape=(2,3))"
      ],
      "metadata": {
        "colab": {
          "base_uri": "https://localhost:8080/"
        },
        "id": "cpEYXTD8m7ij",
        "outputId": "faa2677f-4e21-4cee-b0f1-0a977d9a105b"
      },
      "execution_count": 28,
      "outputs": [
        {
          "output_type": "execute_result",
          "data": {
            "text/plain": [
              "<tf.Tensor: shape=(2, 3), dtype=float32, numpy=\n",
              "array([[1., 1., 1.],\n",
              "       [1., 1., 1.]], dtype=float32)>"
            ]
          },
          "metadata": {},
          "execution_count": 28
        }
      ]
    },
    {
      "cell_type": "code",
      "source": [
        "-1 * tf.ones(shape=(2,3))"
      ],
      "metadata": {
        "colab": {
          "base_uri": "https://localhost:8080/"
        },
        "id": "sfxdwlC-m7lY",
        "outputId": "00f09b74-f804-4817-f5ca-91e63f3e4190"
      },
      "execution_count": 29,
      "outputs": [
        {
          "output_type": "execute_result",
          "data": {
            "text/plain": [
              "<tf.Tensor: shape=(2, 3), dtype=float32, numpy=\n",
              "array([[-1., -1., -1.],\n",
              "       [-1., -1., -1.]], dtype=float32)>"
            ]
          },
          "metadata": {},
          "execution_count": 29
        }
      ]
    },
    {
      "cell_type": "code",
      "source": [
        "6 * tf.ones(shape=(2,3))"
      ],
      "metadata": {
        "colab": {
          "base_uri": "https://localhost:8080/"
        },
        "id": "AlacT1lam7n-",
        "outputId": "626e42e9-c0aa-46b3-febe-6d9e0880e841"
      },
      "execution_count": 30,
      "outputs": [
        {
          "output_type": "execute_result",
          "data": {
            "text/plain": [
              "<tf.Tensor: shape=(2, 3), dtype=float32, numpy=\n",
              "array([[6., 6., 6.],\n",
              "       [6., 6., 6.]], dtype=float32)>"
            ]
          },
          "metadata": {},
          "execution_count": 30
        }
      ]
    },
    {
      "cell_type": "code",
      "source": [
        "tf.zeros(shape=(2,4))"
      ],
      "metadata": {
        "colab": {
          "base_uri": "https://localhost:8080/"
        },
        "id": "lFFWIs0hm7qp",
        "outputId": "be4d2ced-4562-43d6-e9d1-cb55fb694ae1"
      },
      "execution_count": 31,
      "outputs": [
        {
          "output_type": "execute_result",
          "data": {
            "text/plain": [
              "<tf.Tensor: shape=(2, 4), dtype=float32, numpy=\n",
              "array([[0., 0., 0., 0.],\n",
              "       [0., 0., 0., 0.]], dtype=float32)>"
            ]
          },
          "metadata": {},
          "execution_count": 31
        }
      ]
    },
    {
      "cell_type": "markdown",
      "source": [
        "# add operations"
      ],
      "metadata": {
        "id": "dfipFn8orGBH"
      }
    },
    {
      "cell_type": "code",
      "source": [
        "const1 = tf.constant([[1,2,3], [4,5,6]])\n",
        "const2 = tf.constant([[2,5,3], [3,5,8]])"
      ],
      "metadata": {
        "id": "h2FEk-lAm7vm"
      },
      "execution_count": 32,
      "outputs": []
    },
    {
      "cell_type": "code",
      "source": [
        "const1 + const2"
      ],
      "metadata": {
        "colab": {
          "base_uri": "https://localhost:8080/"
        },
        "id": "Zc7FpEOnm7yM",
        "outputId": "a56485a6-74bc-426f-d16b-5a57de691a10"
      },
      "execution_count": 33,
      "outputs": [
        {
          "output_type": "execute_result",
          "data": {
            "text/plain": [
              "<tf.Tensor: shape=(2, 3), dtype=int32, numpy=\n",
              "array([[ 3,  7,  6],\n",
              "       [ 7, 10, 14]], dtype=int32)>"
            ]
          },
          "metadata": {},
          "execution_count": 33
        }
      ]
    },
    {
      "cell_type": "code",
      "source": [
        "tf.add(const1, const2)"
      ],
      "metadata": {
        "colab": {
          "base_uri": "https://localhost:8080/"
        },
        "id": "8tA9g5pAm70z",
        "outputId": "57495091-cf79-4ff1-edd0-97ccc77c5664"
      },
      "execution_count": 34,
      "outputs": [
        {
          "output_type": "execute_result",
          "data": {
            "text/plain": [
              "<tf.Tensor: shape=(2, 3), dtype=int32, numpy=\n",
              "array([[ 3,  7,  6],\n",
              "       [ 7, 10, 14]], dtype=int32)>"
            ]
          },
          "metadata": {},
          "execution_count": 34
        }
      ]
    },
    {
      "cell_type": "markdown",
      "source": [
        "## Random Constant"
      ],
      "metadata": {
        "id": "XIIwj13TsSpk"
      }
    },
    {
      "cell_type": "code",
      "source": [
        "tf.random.normal(shape=(2,2), mean = 0, stddev=1.0 )"
      ],
      "metadata": {
        "colab": {
          "base_uri": "https://localhost:8080/"
        },
        "id": "StlZNCNxm759",
        "outputId": "242e3890-c739-44ab-e0f6-41a356002a14"
      },
      "execution_count": 35,
      "outputs": [
        {
          "output_type": "execute_result",
          "data": {
            "text/plain": [
              "<tf.Tensor: shape=(2, 2), dtype=float32, numpy=\n",
              "array([[-0.08565991, -0.5640888 ],\n",
              "       [ 1.0837615 , -1.0908647 ]], dtype=float32)>"
            ]
          },
          "metadata": {},
          "execution_count": 35
        }
      ]
    },
    {
      "cell_type": "code",
      "source": [
        "tf.random.uniform(shape=(2,2), minval = 0, maxval=20)"
      ],
      "metadata": {
        "colab": {
          "base_uri": "https://localhost:8080/"
        },
        "id": "IV4-Xi9Lm78F",
        "outputId": "fdcd37a8-7828-4eb7-8c2a-1aec5c855137"
      },
      "execution_count": 36,
      "outputs": [
        {
          "output_type": "execute_result",
          "data": {
            "text/plain": [
              "<tf.Tensor: shape=(2, 2), dtype=float32, numpy=\n",
              "array([[ 1.5858126,  4.0649295],\n",
              "       [10.196791 , 16.035616 ]], dtype=float32)>"
            ]
          },
          "metadata": {},
          "execution_count": 36
        }
      ]
    },
    {
      "cell_type": "markdown",
      "source": [
        "## Variables"
      ],
      "metadata": {
        "id": "A0cvnbgNtdI9"
      }
    },
    {
      "cell_type": "code",
      "source": [
        "var1 = tf.Variable([[1,2,3], [4,5,6]])"
      ],
      "metadata": {
        "id": "cFf5TYTtm7-c"
      },
      "execution_count": 37,
      "outputs": []
    },
    {
      "cell_type": "code",
      "source": [
        "var1"
      ],
      "metadata": {
        "colab": {
          "base_uri": "https://localhost:8080/"
        },
        "id": "DnYG_U4Cm8Aj",
        "outputId": "b5cda4cc-1858-4002-9ec5-4b8d100532b6"
      },
      "execution_count": 38,
      "outputs": [
        {
          "output_type": "execute_result",
          "data": {
            "text/plain": [
              "<tf.Variable 'Variable:0' shape=(2, 3) dtype=int32, numpy=\n",
              "array([[1, 2, 3],\n",
              "       [4, 5, 6]], dtype=int32)>"
            ]
          },
          "metadata": {},
          "execution_count": 38
        }
      ]
    },
    {
      "cell_type": "code",
      "source": [
        "var2 = tf.Variable(43)"
      ],
      "metadata": {
        "id": "F8yZ1Omwm8DJ"
      },
      "execution_count": 39,
      "outputs": []
    },
    {
      "cell_type": "code",
      "source": [
        "var2"
      ],
      "metadata": {
        "colab": {
          "base_uri": "https://localhost:8080/"
        },
        "id": "l57QYvULm8Fv",
        "outputId": "fada8875-fb02-4372-8ba4-32d53bb4f53b"
      },
      "execution_count": 40,
      "outputs": [
        {
          "output_type": "execute_result",
          "data": {
            "text/plain": [
              "<tf.Variable 'Variable:0' shape=() dtype=int32, numpy=43>"
            ]
          },
          "metadata": {},
          "execution_count": 40
        }
      ]
    },
    {
      "cell_type": "code",
      "source": [
        "var2.assign(32)"
      ],
      "metadata": {
        "colab": {
          "base_uri": "https://localhost:8080/"
        },
        "id": "-DGanleHm8Im",
        "outputId": "4b6e6318-0ced-48a6-8c31-88e6b813ff1b"
      },
      "execution_count": 41,
      "outputs": [
        {
          "output_type": "execute_result",
          "data": {
            "text/plain": [
              "<tf.Variable 'UnreadVariable' shape=() dtype=int32, numpy=32>"
            ]
          },
          "metadata": {},
          "execution_count": 41
        }
      ]
    },
    {
      "cell_type": "code",
      "source": [
        "var2"
      ],
      "metadata": {
        "colab": {
          "base_uri": "https://localhost:8080/"
        },
        "id": "Y4rwZ39wjkG3",
        "outputId": "e6741d88-05f6-498d-8b99-fb1b7135d6b0"
      },
      "execution_count": 42,
      "outputs": [
        {
          "output_type": "execute_result",
          "data": {
            "text/plain": [
              "<tf.Variable 'Variable:0' shape=() dtype=int32, numpy=32>"
            ]
          },
          "metadata": {},
          "execution_count": 42
        }
      ]
    },
    {
      "cell_type": "code",
      "source": [
        "var2 = 33"
      ],
      "metadata": {
        "id": "uro5pPi9jkJg"
      },
      "execution_count": 43,
      "outputs": []
    },
    {
      "cell_type": "code",
      "source": [
        "var2"
      ],
      "metadata": {
        "colab": {
          "base_uri": "https://localhost:8080/"
        },
        "id": "h1eo-9wdjkMX",
        "outputId": "e46fbce2-d0ed-4f03-f401-9004d0e99054"
      },
      "execution_count": 44,
      "outputs": [
        {
          "output_type": "execute_result",
          "data": {
            "text/plain": [
              "33"
            ]
          },
          "metadata": {},
          "execution_count": 44
        }
      ]
    },
    {
      "cell_type": "markdown",
      "source": [
        "##reshaping Operation"
      ],
      "metadata": {
        "id": "enbCvJy7wrB5"
      }
    },
    {
      "cell_type": "code",
      "source": [
        "tensor = tf.Variable([[22,2,3],[4,5,6]])\n",
        "\n",
        "tensor.shape"
      ],
      "metadata": {
        "colab": {
          "base_uri": "https://localhost:8080/"
        },
        "id": "1HFTSsjIjkO-",
        "outputId": "1ecdf0e0-d0f9-4b0e-f095-aaf6703c4ee2"
      },
      "execution_count": 45,
      "outputs": [
        {
          "output_type": "execute_result",
          "data": {
            "text/plain": [
              "TensorShape([2, 3])"
            ]
          },
          "metadata": {},
          "execution_count": 45
        }
      ]
    },
    {
      "cell_type": "code",
      "source": [
        "tf.reshape(tensor, [3,2])"
      ],
      "metadata": {
        "colab": {
          "base_uri": "https://localhost:8080/"
        },
        "id": "y8XIg3OFwx3G",
        "outputId": "a2988253-85ea-4fa5-dd1d-c62ae906cd7d"
      },
      "execution_count": 46,
      "outputs": [
        {
          "output_type": "execute_result",
          "data": {
            "text/plain": [
              "<tf.Tensor: shape=(3, 2), dtype=int32, numpy=\n",
              "array([[22,  2],\n",
              "       [ 3,  4],\n",
              "       [ 5,  6]], dtype=int32)>"
            ]
          },
          "metadata": {},
          "execution_count": 46
        }
      ]
    },
    {
      "cell_type": "code",
      "source": [
        "tf.reshape(tensor, [1,6])"
      ],
      "metadata": {
        "colab": {
          "base_uri": "https://localhost:8080/"
        },
        "id": "5jkPXMBDwx5T",
        "outputId": "baad0bc2-5834-4993-e015-f4328f995cdd"
      },
      "execution_count": 47,
      "outputs": [
        {
          "output_type": "execute_result",
          "data": {
            "text/plain": [
              "<tf.Tensor: shape=(1, 6), dtype=int32, numpy=array([[22,  2,  3,  4,  5,  6]], dtype=int32)>"
            ]
          },
          "metadata": {},
          "execution_count": 47
        }
      ]
    },
    {
      "cell_type": "code",
      "source": [
        "tf.reshape(tensor, [6,1])"
      ],
      "metadata": {
        "colab": {
          "base_uri": "https://localhost:8080/"
        },
        "id": "6vbTIQdiwx72",
        "outputId": "3b186fa2-516d-41c0-8eab-b1ff1dbb83ea"
      },
      "execution_count": 48,
      "outputs": [
        {
          "output_type": "execute_result",
          "data": {
            "text/plain": [
              "<tf.Tensor: shape=(6, 1), dtype=int32, numpy=\n",
              "array([[22],\n",
              "       [ 2],\n",
              "       [ 3],\n",
              "       [ 4],\n",
              "       [ 5],\n",
              "       [ 6]], dtype=int32)>"
            ]
          },
          "metadata": {},
          "execution_count": 48
        }
      ]
    },
    {
      "cell_type": "markdown",
      "source": [
        "## Other mathematical ops"
      ],
      "metadata": {
        "id": "QYuWB7eSyKzD"
      }
    },
    {
      "cell_type": "code",
      "source": [
        "var1"
      ],
      "metadata": {
        "colab": {
          "base_uri": "https://localhost:8080/"
        },
        "id": "0QbrbRpawx-R",
        "outputId": "c524d6ba-ab12-4374-f4a1-8ee4a71da1cb"
      },
      "execution_count": 49,
      "outputs": [
        {
          "output_type": "execute_result",
          "data": {
            "text/plain": [
              "<tf.Variable 'Variable:0' shape=(2, 3) dtype=int32, numpy=\n",
              "array([[1, 2, 3],\n",
              "       [4, 5, 6]], dtype=int32)>"
            ]
          },
          "metadata": {},
          "execution_count": 49
        }
      ]
    },
    {
      "cell_type": "code",
      "source": [
        "tf.square(var1)"
      ],
      "metadata": {
        "colab": {
          "base_uri": "https://localhost:8080/"
        },
        "id": "sRuMogqEwyAW",
        "outputId": "2bc9fd31-51de-45e4-d958-253c3714956d"
      },
      "execution_count": 50,
      "outputs": [
        {
          "output_type": "execute_result",
          "data": {
            "text/plain": [
              "<tf.Tensor: shape=(2, 3), dtype=int32, numpy=\n",
              "array([[ 1,  4,  9],\n",
              "       [16, 25, 36]], dtype=int32)>"
            ]
          },
          "metadata": {},
          "execution_count": 50
        }
      ]
    },
    {
      "cell_type": "markdown",
      "source": [
        "##Broadcasting in TF"
      ],
      "metadata": {
        "id": "zzaHzJek8v0c"
      }
    },
    {
      "cell_type": "code",
      "source": [
        "tensor"
      ],
      "metadata": {
        "colab": {
          "base_uri": "https://localhost:8080/"
        },
        "id": "VKEjbhTU887c",
        "outputId": "44b52689-e647-46b9-b1e4-6bf6772ff2e3"
      },
      "execution_count": 51,
      "outputs": [
        {
          "output_type": "execute_result",
          "data": {
            "text/plain": [
              "<tf.Variable 'Variable:0' shape=(2, 3) dtype=int32, numpy=\n",
              "array([[22,  2,  3],\n",
              "       [ 4,  5,  6]], dtype=int32)>"
            ]
          },
          "metadata": {},
          "execution_count": 51
        }
      ]
    },
    {
      "cell_type": "code",
      "source": [
        "scaler = 4\n",
        "\n",
        "scaler * tensor"
      ],
      "metadata": {
        "colab": {
          "base_uri": "https://localhost:8080/"
        },
        "id": "Q8O21y05wyC5",
        "outputId": "827f921d-e346-4681-c48a-c14449666360"
      },
      "execution_count": 52,
      "outputs": [
        {
          "output_type": "execute_result",
          "data": {
            "text/plain": [
              "<tf.Tensor: shape=(2, 3), dtype=int32, numpy=\n",
              "array([[88,  8, 12],\n",
              "       [16, 20, 24]], dtype=int32)>"
            ]
          },
          "metadata": {},
          "execution_count": 52
        }
      ]
    },
    {
      "cell_type": "code",
      "source": [
        "scaler + tensor"
      ],
      "metadata": {
        "colab": {
          "base_uri": "https://localhost:8080/"
        },
        "id": "2e-YAQaswyEz",
        "outputId": "ad7a469b-ab33-4b66-94e7-d06f2818ca96"
      },
      "execution_count": 53,
      "outputs": [
        {
          "output_type": "execute_result",
          "data": {
            "text/plain": [
              "<tf.Tensor: shape=(2, 3), dtype=int32, numpy=\n",
              "array([[26,  6,  7],\n",
              "       [ 8,  9, 10]], dtype=int32)>"
            ]
          },
          "metadata": {},
          "execution_count": 53
        }
      ]
    },
    {
      "cell_type": "markdown",
      "source": [
        "##Matrix Multiplication"
      ],
      "metadata": {
        "id": "A6oQobIy91eQ"
      }
    },
    {
      "cell_type": "code",
      "source": [
        "mat_u = tf.constant([[6,7,7]])\n",
        "mat_v = tf.constant([[3,4,3]])"
      ],
      "metadata": {
        "id": "fXwYGtriwyHI"
      },
      "execution_count": 54,
      "outputs": []
    },
    {
      "cell_type": "code",
      "source": [
        "mat_u.shape"
      ],
      "metadata": {
        "colab": {
          "base_uri": "https://localhost:8080/"
        },
        "id": "-NTLA_t_wyJh",
        "outputId": "1bb4e22c-ea8a-4451-acee-79a7595af548"
      },
      "execution_count": 55,
      "outputs": [
        {
          "output_type": "execute_result",
          "data": {
            "text/plain": [
              "TensorShape([1, 3])"
            ]
          },
          "metadata": {},
          "execution_count": 55
        }
      ]
    },
    {
      "cell_type": "code",
      "source": [
        "mat_v.shape"
      ],
      "metadata": {
        "colab": {
          "base_uri": "https://localhost:8080/"
        },
        "id": "rOPjYLfMwyL0",
        "outputId": "e087b9f3-0a86-4be8-ec6e-cb048d195cca"
      },
      "execution_count": 56,
      "outputs": [
        {
          "output_type": "execute_result",
          "data": {
            "text/plain": [
              "TensorShape([1, 3])"
            ]
          },
          "metadata": {},
          "execution_count": 56
        }
      ]
    },
    {
      "cell_type": "markdown",
      "source": [
        "##Rule:column of matrix A = row of matrix B ,if we are multiplying AB"
      ],
      "metadata": {
        "id": "Vu1v0Xdf-p3y"
      }
    },
    {
      "cell_type": "code",
      "source": [
        "#tf.matmul(mat_u, mat_v)"
      ],
      "metadata": {
        "id": "MgHsIpodwyOJ"
      },
      "execution_count": 58,
      "outputs": []
    },
    {
      "cell_type": "code",
      "source": [
        "tf.matmul(mat_u, tf.transpose(mat_v))"
      ],
      "metadata": {
        "colab": {
          "base_uri": "https://localhost:8080/"
        },
        "id": "WJSCZpr6wyQh",
        "outputId": "1e04213b-abbd-4714-fd3c-07079dc6e726"
      },
      "execution_count": 59,
      "outputs": [
        {
          "output_type": "execute_result",
          "data": {
            "text/plain": [
              "<tf.Tensor: shape=(1, 1), dtype=int32, numpy=array([[67]], dtype=int32)>"
            ]
          },
          "metadata": {},
          "execution_count": 59
        }
      ]
    },
    {
      "cell_type": "code",
      "source": [
        "tf.matmul(tf.transpose(mat_u), mat_v)"
      ],
      "metadata": {
        "colab": {
          "base_uri": "https://localhost:8080/"
        },
        "id": "CyIFkv7ZwyTJ",
        "outputId": "b06fca46-8486-4541-9941-1b14ce47ffd6"
      },
      "execution_count": 60,
      "outputs": [
        {
          "output_type": "execute_result",
          "data": {
            "text/plain": [
              "<tf.Tensor: shape=(3, 3), dtype=int32, numpy=\n",
              "array([[18, 24, 18],\n",
              "       [21, 28, 21],\n",
              "       [21, 28, 21]], dtype=int32)>"
            ]
          },
          "metadata": {},
          "execution_count": 60
        }
      ]
    },
    {
      "cell_type": "markdown",
      "source": [
        "##alternative to above"
      ],
      "metadata": {
        "id": "Gg8B9g8Y_2F8"
      }
    },
    {
      "cell_type": "code",
      "source": [
        "mat_u @ tf.transpose(mat_v)"
      ],
      "metadata": {
        "colab": {
          "base_uri": "https://localhost:8080/"
        },
        "id": "ANPyXetjwyVt",
        "outputId": "7298f788-5231-499b-d900-98d220c4a46d"
      },
      "execution_count": 61,
      "outputs": [
        {
          "output_type": "execute_result",
          "data": {
            "text/plain": [
              "<tf.Tensor: shape=(1, 1), dtype=int32, numpy=array([[67]], dtype=int32)>"
            ]
          },
          "metadata": {},
          "execution_count": 61
        }
      ]
    },
    {
      "cell_type": "code",
      "source": [
        "mat_u * mat_v # element wise multiplication\n",
        "# shape of both should be same"
      ],
      "metadata": {
        "colab": {
          "base_uri": "https://localhost:8080/"
        },
        "id": "Xk0mE4cyjkRi",
        "outputId": "900d06a2-6442-4783-a33e-56a3f29af867"
      },
      "execution_count": 62,
      "outputs": [
        {
          "output_type": "execute_result",
          "data": {
            "text/plain": [
              "<tf.Tensor: shape=(1, 3), dtype=int32, numpy=array([[18, 28, 21]], dtype=int32)>"
            ]
          },
          "metadata": {},
          "execution_count": 62
        }
      ]
    },
    {
      "cell_type": "markdown",
      "source": [
        "##Casting method in tf to change the data type"
      ],
      "metadata": {
        "id": "XDar5HFPAyq1"
      }
    },
    {
      "cell_type": "code",
      "source": [
        "mat_u.dtype"
      ],
      "metadata": {
        "colab": {
          "base_uri": "https://localhost:8080/"
        },
        "id": "VlFUUfirAY3i",
        "outputId": "4f886be2-7a33-4476-b3e6-b6c47ea8dea9"
      },
      "execution_count": 63,
      "outputs": [
        {
          "output_type": "execute_result",
          "data": {
            "text/plain": [
              "tf.int32"
            ]
          },
          "metadata": {},
          "execution_count": 63
        }
      ]
    },
    {
      "cell_type": "code",
      "source": [
        "tf.cast(mat_u, dtype = tf.int16)"
      ],
      "metadata": {
        "colab": {
          "base_uri": "https://localhost:8080/"
        },
        "id": "4aniP7LsAY6G",
        "outputId": "cea2130b-4628-48a0-dde1-9a6b7fb4a60a"
      },
      "execution_count": 64,
      "outputs": [
        {
          "output_type": "execute_result",
          "data": {
            "text/plain": [
              "<tf.Tensor: shape=(1, 3), dtype=int16, numpy=array([[6, 7, 7]], dtype=int16)>"
            ]
          },
          "metadata": {},
          "execution_count": 64
        }
      ]
    },
    {
      "cell_type": "code",
      "source": [
        "mat_u.dtype"
      ],
      "metadata": {
        "colab": {
          "base_uri": "https://localhost:8080/"
        },
        "id": "FB2_Es5eAY8M",
        "outputId": "d7778e7a-582a-45f4-bd70-369e03a6a54c"
      },
      "execution_count": 65,
      "outputs": [
        {
          "output_type": "execute_result",
          "data": {
            "text/plain": [
              "tf.int32"
            ]
          },
          "metadata": {},
          "execution_count": 65
        }
      ]
    },
    {
      "cell_type": "markdown",
      "source": [
        "##Ragged tensors\n",
        "nested variable length arrays"
      ],
      "metadata": {
        "id": "i0PzqY2HCyJT"
      }
    },
    {
      "cell_type": "code",
      "source": [
        "tf.ragged.constant([[1,2,4,5,6], [1], [135,1]])"
      ],
      "metadata": {
        "colab": {
          "base_uri": "https://localhost:8080/"
        },
        "id": "j3jmullkAZAH",
        "outputId": "cf92a9ae-d497-4067-b7a0-c123d5c9a622"
      },
      "execution_count": 66,
      "outputs": [
        {
          "output_type": "execute_result",
          "data": {
            "text/plain": [
              "<tf.RaggedTensor [[1, 2, 4, 5, 6], [1], [135, 1]]>"
            ]
          },
          "metadata": {},
          "execution_count": 66
        }
      ]
    },
    {
      "cell_type": "code",
      "source": [
        "ragged = tf.ragged.constant([[1,2,4,5,6], [1], [135,1]])"
      ],
      "metadata": {
        "id": "bMqMjDi9AZCb"
      },
      "execution_count": 67,
      "outputs": []
    },
    {
      "cell_type": "code",
      "source": [
        "ragged.shape"
      ],
      "metadata": {
        "colab": {
          "base_uri": "https://localhost:8080/"
        },
        "id": "eaTUtMiLAZFW",
        "outputId": "5f46d48e-4e33-4730-de8c-aa62c06c3c22"
      },
      "execution_count": 68,
      "outputs": [
        {
          "output_type": "execute_result",
          "data": {
            "text/plain": [
              "TensorShape([3, None])"
            ]
          },
          "metadata": {},
          "execution_count": 68
        }
      ]
    },
    {
      "cell_type": "code",
      "source": [
        "ragged[0]"
      ],
      "metadata": {
        "colab": {
          "base_uri": "https://localhost:8080/"
        },
        "id": "uKqiGQXFAZIL",
        "outputId": "0187a47f-fb92-4e51-e081-8fd319973a6a"
      },
      "execution_count": 69,
      "outputs": [
        {
          "output_type": "execute_result",
          "data": {
            "text/plain": [
              "<tf.Tensor: shape=(5,), dtype=int32, numpy=array([1, 2, 4, 5, 6], dtype=int32)>"
            ]
          },
          "metadata": {},
          "execution_count": 69
        }
      ]
    },
    {
      "cell_type": "code",
      "source": [
        "ragged[0].shape"
      ],
      "metadata": {
        "colab": {
          "base_uri": "https://localhost:8080/"
        },
        "id": "8jCQrQztAZKR",
        "outputId": "bdeb19c7-daf2-4083-d9ba-80836310c043"
      },
      "execution_count": 70,
      "outputs": [
        {
          "output_type": "execute_result",
          "data": {
            "text/plain": [
              "TensorShape([5])"
            ]
          },
          "metadata": {},
          "execution_count": 70
        }
      ]
    },
    {
      "cell_type": "code",
      "source": [
        "ragged[1].shape"
      ],
      "metadata": {
        "colab": {
          "base_uri": "https://localhost:8080/"
        },
        "id": "M-zX4rxkAZMX",
        "outputId": "158f9ba1-9621-48e0-991c-ce635ab882c4"
      },
      "execution_count": 71,
      "outputs": [
        {
          "output_type": "execute_result",
          "data": {
            "text/plain": [
              "TensorShape([1])"
            ]
          },
          "metadata": {},
          "execution_count": 71
        }
      ]
    },
    {
      "cell_type": "markdown",
      "source": [
        "##Checkpointing to restore the matrix vals"
      ],
      "metadata": {
        "id": "ru5uzDz0JE1U"
      }
    },
    {
      "cell_type": "code",
      "source": [
        "var1 = tf.Variable(5*tf.ones((5,5)))"
      ],
      "metadata": {
        "id": "15rjKKASAZOe"
      },
      "execution_count": 72,
      "outputs": []
    },
    {
      "cell_type": "code",
      "source": [
        "var1"
      ],
      "metadata": {
        "colab": {
          "base_uri": "https://localhost:8080/"
        },
        "id": "273eSuHFIRdO",
        "outputId": "bd3e1abd-f0b5-4177-98ef-a07f4591f25c"
      },
      "execution_count": 73,
      "outputs": [
        {
          "output_type": "execute_result",
          "data": {
            "text/plain": [
              "<tf.Variable 'Variable:0' shape=(5, 5) dtype=float32, numpy=\n",
              "array([[5., 5., 5., 5., 5.],\n",
              "       [5., 5., 5., 5., 5.],\n",
              "       [5., 5., 5., 5., 5.],\n",
              "       [5., 5., 5., 5., 5.],\n",
              "       [5., 5., 5., 5., 5.]], dtype=float32)>"
            ]
          },
          "metadata": {},
          "execution_count": 73
        }
      ]
    },
    {
      "cell_type": "code",
      "source": [
        "ckpt = tf.train.Checkpoint(var=var1)\n",
        "savepath = ckpt.save(\"./vars.ckpt\")"
      ],
      "metadata": {
        "id": "zo-RyF0kIRfL"
      },
      "execution_count": 74,
      "outputs": []
    },
    {
      "cell_type": "code",
      "source": [
        "var1.assign(tf.zeros((5,5)))"
      ],
      "metadata": {
        "colab": {
          "base_uri": "https://localhost:8080/"
        },
        "id": "zAbj0Pc_IRhK",
        "outputId": "8619eebf-cee6-4010-fbaa-aadb24d3d586"
      },
      "execution_count": 75,
      "outputs": [
        {
          "output_type": "execute_result",
          "data": {
            "text/plain": [
              "<tf.Variable 'UnreadVariable' shape=(5, 5) dtype=float32, numpy=\n",
              "array([[0., 0., 0., 0., 0.],\n",
              "       [0., 0., 0., 0., 0.],\n",
              "       [0., 0., 0., 0., 0.],\n",
              "       [0., 0., 0., 0., 0.],\n",
              "       [0., 0., 0., 0., 0.]], dtype=float32)>"
            ]
          },
          "metadata": {},
          "execution_count": 75
        }
      ]
    },
    {
      "cell_type": "code",
      "source": [
        "var1"
      ],
      "metadata": {
        "colab": {
          "base_uri": "https://localhost:8080/"
        },
        "id": "TjceGRh8Lpr4",
        "outputId": "9b5d4c98-4b8d-4c94-d7e6-740b28ea3b95"
      },
      "execution_count": 76,
      "outputs": [
        {
          "output_type": "execute_result",
          "data": {
            "text/plain": [
              "<tf.Variable 'Variable:0' shape=(5, 5) dtype=float32, numpy=\n",
              "array([[0., 0., 0., 0., 0.],\n",
              "       [0., 0., 0., 0., 0.],\n",
              "       [0., 0., 0., 0., 0.],\n",
              "       [0., 0., 0., 0., 0.],\n",
              "       [0., 0., 0., 0., 0.]], dtype=float32)>"
            ]
          },
          "metadata": {},
          "execution_count": 76
        }
      ]
    },
    {
      "cell_type": "code",
      "source": [
        "ckpt.restore(savepath)"
      ],
      "metadata": {
        "colab": {
          "base_uri": "https://localhost:8080/"
        },
        "id": "9V6iV9-UIRjx",
        "outputId": "ef863551-a4f6-48df-80c5-e9b408c28638"
      },
      "execution_count": 77,
      "outputs": [
        {
          "output_type": "execute_result",
          "data": {
            "text/plain": [
              "<tensorflow.python.checkpoint.checkpoint.CheckpointLoadStatus at 0x7f16e2cebb80>"
            ]
          },
          "metadata": {},
          "execution_count": 77
        }
      ]
    },
    {
      "cell_type": "markdown",
      "source": [
        "##tf.function"
      ],
      "metadata": {
        "id": "_2DPEjoEMuKr"
      }
    },
    {
      "cell_type": "markdown",
      "source": [
        "$z = x^3 * 6 + y^3$"
      ],
      "metadata": {
        "id": "ZqEuocEhNAFN"
      }
    },
    {
      "cell_type": "code",
      "source": [
        "def f1(x,y):\n",
        "  input_var = tf.multiply(x ** 3, 6) + y ** 3\n",
        "  return tf.reduce_mean(input_tensor = input_var)"
      ],
      "metadata": {
        "id": "l4pTkYdwIRmY"
      },
      "execution_count": 78,
      "outputs": []
    },
    {
      "cell_type": "code",
      "source": [
        "func = tf.function(f1)"
      ],
      "metadata": {
        "id": "vtdqBzeSIRo3"
      },
      "execution_count": 79,
      "outputs": []
    },
    {
      "cell_type": "code",
      "source": [
        "x = tf.constant([3.,-4.])\n",
        "y = tf.constant([1.,4.])"
      ],
      "metadata": {
        "id": "gLyaVV-1IRri"
      },
      "execution_count": 80,
      "outputs": []
    },
    {
      "cell_type": "code",
      "source": [
        "f1(x,y) ## using simple python function"
      ],
      "metadata": {
        "colab": {
          "base_uri": "https://localhost:8080/"
        },
        "id": "MzM-zm_sIRuD",
        "outputId": "974f2a96-6324-4de2-b5a3-101d5d91b416"
      },
      "execution_count": 81,
      "outputs": [
        {
          "output_type": "execute_result",
          "data": {
            "text/plain": [
              "<tf.Tensor: shape=(), dtype=float32, numpy=-78.5>"
            ]
          },
          "metadata": {},
          "execution_count": 81
        }
      ]
    },
    {
      "cell_type": "code",
      "source": [
        "func(x,y)"
      ],
      "metadata": {
        "colab": {
          "base_uri": "https://localhost:8080/"
        },
        "id": "AXKxXMo8IRws",
        "outputId": "658c713c-6061-4aef-fa2b-e1982c7285a1"
      },
      "execution_count": 82,
      "outputs": [
        {
          "output_type": "execute_result",
          "data": {
            "text/plain": [
              "<tf.Tensor: shape=(), dtype=float32, numpy=-78.5>"
            ]
          },
          "metadata": {},
          "execution_count": 82
        }
      ]
    },
    {
      "cell_type": "code",
      "source": [
        "@tf.function ## tf decorator function\n",
        "def f2(x,y):\n",
        "  input_var = tf.multiply(x ** 3, 6) + y ** 3\n",
        "  return tf.reduce_mean(input_tensor = input_var)"
      ],
      "metadata": {
        "id": "5etAN7hHIRzj"
      },
      "execution_count": 83,
      "outputs": []
    },
    {
      "cell_type": "code",
      "source": [
        "f2(x,y)"
      ],
      "metadata": {
        "colab": {
          "base_uri": "https://localhost:8080/"
        },
        "id": "G1u7tJnFIR2R",
        "outputId": "570d7e1e-6faa-407f-debb-039ff1b1fa64"
      },
      "execution_count": 84,
      "outputs": [
        {
          "output_type": "execute_result",
          "data": {
            "text/plain": [
              "<tf.Tensor: shape=(), dtype=float32, numpy=-78.5>"
            ]
          },
          "metadata": {},
          "execution_count": 84
        }
      ]
    },
    {
      "cell_type": "markdown",
      "source": [
        "##Example of decorator"
      ],
      "metadata": {
        "id": "skS4W7mTT2wn"
      }
    },
    {
      "cell_type": "code",
      "source": [
        "def print_me():\n",
        "  print(\"Hi FSDS\")"
      ],
      "metadata": {
        "id": "ZikHYq0TIR9F"
      },
      "execution_count": 85,
      "outputs": []
    },
    {
      "cell_type": "code",
      "source": [
        "print_me()"
      ],
      "metadata": {
        "colab": {
          "base_uri": "https://localhost:8080/"
        },
        "id": "a3YbKxMyISAb",
        "outputId": "c1816d9e-964b-4a6a-f697-0a8e8a0bc2e1"
      },
      "execution_count": 86,
      "outputs": [
        {
          "output_type": "stream",
          "name": "stdout",
          "text": [
            "Hi FSDS\n"
          ]
        }
      ]
    },
    {
      "cell_type": "code",
      "source": [
        "print(\"**\" * 20)\n",
        "print_me()\n",
        "print(\"**\" * 20)"
      ],
      "metadata": {
        "colab": {
          "base_uri": "https://localhost:8080/"
        },
        "id": "WMjwlAM5ISDR",
        "outputId": "834c9595-0db9-4692-f225-2390dd87f22c"
      },
      "execution_count": 87,
      "outputs": [
        {
          "output_type": "stream",
          "name": "stdout",
          "text": [
            "****************************************\n",
            "Hi FSDS\n",
            "****************************************\n"
          ]
        }
      ]
    },
    {
      "cell_type": "code",
      "source": [
        "def decorate_it(input_func):\n",
        "  def decorated_func():\n",
        "    print(\"**\" * 20)\n",
        "    input_func()\n",
        "    print(\"**\" * 20)\n",
        "\n",
        "  return decorated_func \n",
        "\n"
      ],
      "metadata": {
        "id": "ZQ3LLbKJVQbP"
      },
      "execution_count": 88,
      "outputs": []
    },
    {
      "cell_type": "code",
      "source": [
        "decorated_func = decorate_it(print_me)\n",
        "\n",
        "decorated_func()"
      ],
      "metadata": {
        "colab": {
          "base_uri": "https://localhost:8080/"
        },
        "id": "KstH4Z6UVQdt",
        "outputId": "a20a0c1f-5d28-458e-e851-c1fa69a0eaab"
      },
      "execution_count": 89,
      "outputs": [
        {
          "output_type": "stream",
          "name": "stdout",
          "text": [
            "****************************************\n",
            "Hi FSDS\n",
            "****************************************\n"
          ]
        }
      ]
    },
    {
      "cell_type": "code",
      "source": [
        "@decorate_it\n",
        "def print_me2():\n",
        "  print(\"Hi FSDS\")"
      ],
      "metadata": {
        "id": "ebEkDM7cVQgL"
      },
      "execution_count": 90,
      "outputs": []
    },
    {
      "cell_type": "code",
      "source": [
        "print_me2()"
      ],
      "metadata": {
        "colab": {
          "base_uri": "https://localhost:8080/"
        },
        "id": "QBUiY5JQVQiy",
        "outputId": "be127349-a62b-425a-9a93-4ff8ec0a7278"
      },
      "execution_count": 91,
      "outputs": [
        {
          "output_type": "stream",
          "name": "stdout",
          "text": [
            "****************************************\n",
            "Hi FSDS\n",
            "****************************************\n"
          ]
        }
      ]
    },
    {
      "cell_type": "code",
      "source": [
        "@decorate_it\n",
        "def print_my_name():\n",
        "  print(\"anup\")"
      ],
      "metadata": {
        "id": "qZdWI0iqVQl5"
      },
      "execution_count": 92,
      "outputs": []
    },
    {
      "cell_type": "code",
      "source": [
        "print_my_name()"
      ],
      "metadata": {
        "colab": {
          "base_uri": "https://localhost:8080/"
        },
        "id": "MGHnMJFNVQo8",
        "outputId": "a7409f19-c36b-457c-d72a-ca2624c8cd79"
      },
      "execution_count": 93,
      "outputs": [
        {
          "output_type": "stream",
          "name": "stdout",
          "text": [
            "****************************************\n",
            "anup\n",
            "****************************************\n"
          ]
        }
      ]
    },
    {
      "cell_type": "markdown",
      "source": [
        "## Calculation of Gradients in tf"
      ],
      "metadata": {
        "id": "aXqtSEMoYse9"
      }
    },
    {
      "cell_type": "code",
      "source": [
        "x = tf.random.normal(shape=(2,2))\n",
        "y = tf.random.normal(shape=(2,2))"
      ],
      "metadata": {
        "id": "XQnfy4cHVQrx"
      },
      "execution_count": 94,
      "outputs": []
    },
    {
      "cell_type": "markdown",
      "source": [
        "$f(x,y) = \\sqrt{(x^2 + y^2)}$\n",
        "\n",
        "\n",
        "$\\nabla f(x,y) = \\frac{\\partial f}\n",
        "{\\partial x} \\hat{\\imath} + \\frac \n",
        "{\\partial f}{\\partial y} \\hat{\\jmath}$"
      ],
      "metadata": {
        "id": "98qg2yzsc-rK"
      }
    },
    {
      "cell_type": "code",
      "source": [
        "with tf.GradientTape() as tape:\n",
        "  tape.watch(x) ### <<< I want to calculate grad wrt x\n",
        "  f = tf.sqrt(tf.square(x) + tf.square(y))\n",
        "\n",
        "\n",
        "  df_dx = tape.gradient(f,x)\n",
        "\n",
        "  print(df_dx)\n",
        "\n"
      ],
      "metadata": {
        "colab": {
          "base_uri": "https://localhost:8080/"
        },
        "id": "orxkc96oVQtn",
        "outputId": "165421fe-f062-4305-9822-290d7de70fb4"
      },
      "execution_count": 95,
      "outputs": [
        {
          "output_type": "stream",
          "name": "stdout",
          "text": [
            "tf.Tensor(\n",
            "[[-0.70493025 -0.93360287]\n",
            " [ 0.38593078 -0.4049563 ]], shape=(2, 2), dtype=float32)\n"
          ]
        }
      ]
    },
    {
      "cell_type": "code",
      "source": [
        "with tf.GradientTape() as tape:\n",
        "  tape.watch(y) ### <<< I want to calculate grad wrt y\n",
        "  f = tf.sqrt(tf.square(x) + tf.square(y))\n",
        "\n",
        "\n",
        "  df_dy = tape.gradient(f,y)\n",
        "\n",
        "  print(df_dy)"
      ],
      "metadata": {
        "colab": {
          "base_uri": "https://localhost:8080/"
        },
        "id": "-VZf-rTzaQWb",
        "outputId": "4f07a4d6-175e-4568-ff86-d2dab2367596"
      },
      "execution_count": 96,
      "outputs": [
        {
          "output_type": "stream",
          "name": "stdout",
          "text": [
            "tf.Tensor(\n",
            "[[-0.70927656  0.35830942]\n",
            " [-0.9225278  -0.9143361 ]], shape=(2, 2), dtype=float32)\n"
          ]
        }
      ]
    },
    {
      "cell_type": "code",
      "source": [
        "with tf.GradientTape() as tape:\n",
        "  tape.watch(y) ### <<< I want to calculate grad wrt x\n",
        "  tape.watch(x) ### <<< I want to calculate grad wrt y\n",
        "\n",
        "  f = tf.sqrt(tf.square(x) + tf.square(y))\n",
        "\n",
        "\n",
        "  df_dx, df_dy = tape.gradient(f,[x, y]) ## partial diff wrt x and y\n",
        "\n",
        "  print(df_dx)\n",
        "  print(df_dy)"
      ],
      "metadata": {
        "colab": {
          "base_uri": "https://localhost:8080/"
        },
        "id": "DxaCnpE8aQZ0",
        "outputId": "2aa63f88-01ac-4fde-94f3-7d00fa4f75a4"
      },
      "execution_count": 97,
      "outputs": [
        {
          "output_type": "stream",
          "name": "stdout",
          "text": [
            "tf.Tensor(\n",
            "[[-0.70493025 -0.93360287]\n",
            " [ 0.38593078 -0.4049563 ]], shape=(2, 2), dtype=float32)\n",
            "tf.Tensor(\n",
            "[[-0.70927656  0.35830942]\n",
            " [-0.9225278  -0.9143361 ]], shape=(2, 2), dtype=float32)\n"
          ]
        }
      ]
    },
    {
      "cell_type": "code",
      "source": [
        "x = tf.Variable(3.)\n",
        "y = tf.Variable(2.)"
      ],
      "metadata": {
        "id": "TzbVYJQ2aQcu"
      },
      "execution_count": 98,
      "outputs": []
    },
    {
      "cell_type": "code",
      "source": [
        "with tf.GradientTape() as tape:\n",
        " \n",
        "  f = tf.sqrt(tf.square(x) + tf.square(y))\n",
        "\n",
        "\n",
        "  df_dx, df_dy = tape.gradient(f,[x, y]) ## partial diff wrt x and y\n",
        "\n",
        "  print(df_dx)\n",
        "  print(df_dy)"
      ],
      "metadata": {
        "colab": {
          "base_uri": "https://localhost:8080/"
        },
        "id": "4S4GznChaQf4",
        "outputId": "6f0d1c78-6f16-4d24-d300-fd5383060a91"
      },
      "execution_count": 99,
      "outputs": [
        {
          "output_type": "stream",
          "name": "stdout",
          "text": [
            "tf.Tensor(0.8320503, shape=(), dtype=float32)\n",
            "tf.Tensor(0.5547002, shape=(), dtype=float32)\n"
          ]
        }
      ]
    },
    {
      "cell_type": "markdown",
      "source": [
        "##Simple linear regression example"
      ],
      "metadata": {
        "id": "3Ntv8vZRmPV0"
      }
    },
    {
      "cell_type": "markdown",
      "source": [
        "$f(x) = W.x + b$"
      ],
      "metadata": {
        "id": "EbrFMJyAmcYC"
      }
    },
    {
      "cell_type": "code",
      "source": [
        "TRUE_W = 3.0\n",
        "TRUE_B = 2.0\n",
        "\n",
        "NUM_EXAMPLES = 1000\n",
        "\n",
        "x = tf.random.normal(shape=[NUM_EXAMPLES])\n"
      ],
      "metadata": {
        "id": "_shXTGt3aQjA"
      },
      "execution_count": 100,
      "outputs": []
    },
    {
      "cell_type": "code",
      "source": [
        "noise = tf.random.normal(shape=[NUM_EXAMPLES])"
      ],
      "metadata": {
        "id": "RKISuED_aQmJ"
      },
      "execution_count": 101,
      "outputs": []
    },
    {
      "cell_type": "code",
      "source": [
        "y = x * TRUE_W + TRUE_B + noise"
      ],
      "metadata": {
        "id": "p6vM7RKIaQn7"
      },
      "execution_count": 102,
      "outputs": []
    },
    {
      "cell_type": "code",
      "source": [
        "import matplotlib.pyplot as plt\n",
        "\n",
        "plt.scatter(x,y, c = \"b\")\n",
        "plt.show()"
      ],
      "metadata": {
        "colab": {
          "base_uri": "https://localhost:8080/",
          "height": 430
        },
        "id": "BC1zVJU9aQrH",
        "outputId": "d7a5f0a6-761e-4510-cbdd-05d3bea6de0e"
      },
      "execution_count": 103,
      "outputs": [
        {
          "output_type": "display_data",
          "data": {
            "text/plain": [
              "<Figure size 640x480 with 1 Axes>"
            ],
            "image/png": "[encoded data removed]"
          },
          "metadata": {}
        }
      ]
    },
    {
      "cell_type": "markdown",
      "source": [
        "##Lets define a model"
      ],
      "metadata": {
        "id": "ALm0a2hYonIq"
      }
    },
    {
      "cell_type": "code",
      "source": [
        "class MyModel(tf.Module):\n",
        "  def __init__(self, **kwargs):\n",
        "    super().__init__(**kwargs)\n",
        "\n",
        "    # initial weights\n",
        "    self.w = tf.Variable(5.0)\n",
        "    self.b = tf.Variable(0.0)\n",
        "\n",
        "  \n",
        "\n",
        "  def __call__(self,x):\n",
        "    return self.w*x + self.b\n"
      ],
      "metadata": {
        "id": "3FSGzbamaQuP"
      },
      "execution_count": 104,
      "outputs": []
    },
    {
      "cell_type": "code",
      "source": [
        "class Test:\n",
        "  def __init__(self,x):\n",
        "    self.x = x\n",
        "\n",
        "\n",
        "  def __call__(self):\n",
        "    return self.x ** 3  "
      ],
      "metadata": {
        "id": "1wPAONnjaQv_"
      },
      "execution_count": 105,
      "outputs": []
    },
    {
      "cell_type": "code",
      "source": [
        "obj = Test(2)\n",
        "obj"
      ],
      "metadata": {
        "colab": {
          "base_uri": "https://localhost:8080/"
        },
        "id": "Y2jAMOXEaQx5",
        "outputId": "a1d3c71e-4480-41f7-cdb2-123eee304ff5"
      },
      "execution_count": 106,
      "outputs": [
        {
          "output_type": "execute_result",
          "data": {
            "text/plain": [
              "<__main__.Test at 0x7f16ddce5ee0>"
            ]
          },
          "metadata": {},
          "execution_count": 106
        }
      ]
    },
    {
      "cell_type": "code",
      "source": [
        "obj()"
      ],
      "metadata": {
        "colab": {
          "base_uri": "https://localhost:8080/"
        },
        "id": "JXaPf0d6aQ0m",
        "outputId": "710d268c-9f8e-4dac-ea6d-01c46f706e59"
      },
      "execution_count": 107,
      "outputs": [
        {
          "output_type": "execute_result",
          "data": {
            "text/plain": [
              "8"
            ]
          },
          "metadata": {},
          "execution_count": 107
        }
      ]
    },
    {
      "cell_type": "code",
      "source": [
        "model = MyModel()"
      ],
      "metadata": {
        "id": "SKobapf4aQ31"
      },
      "execution_count": 108,
      "outputs": []
    },
    {
      "cell_type": "code",
      "source": [
        "model(3)"
      ],
      "metadata": {
        "colab": {
          "base_uri": "https://localhost:8080/"
        },
        "id": "3nuSnD1baQ7L",
        "outputId": "50a696e3-82b0-4080-80f1-67cca4d02a1d"
      },
      "execution_count": 109,
      "outputs": [
        {
          "output_type": "execute_result",
          "data": {
            "text/plain": [
              "<tf.Tensor: shape=(), dtype=float32, numpy=15.0>"
            ]
          },
          "metadata": {},
          "execution_count": 109
        }
      ]
    },
    {
      "cell_type": "code",
      "source": [
        "model.w"
      ],
      "metadata": {
        "colab": {
          "base_uri": "https://localhost:8080/"
        },
        "id": "oAAYNe4IaQ-b",
        "outputId": "2b0d2311-83af-4656-f4f5-ad8a36873824"
      },
      "execution_count": 110,
      "outputs": [
        {
          "output_type": "execute_result",
          "data": {
            "text/plain": [
              "<tf.Variable 'Variable:0' shape=() dtype=float32, numpy=5.0>"
            ]
          },
          "metadata": {},
          "execution_count": 110
        }
      ]
    },
    {
      "cell_type": "code",
      "source": [
        "model.b"
      ],
      "metadata": {
        "colab": {
          "base_uri": "https://localhost:8080/"
        },
        "id": "INcmYVWlaRBv",
        "outputId": "def6c043-298d-4bf1-d585-26672b035fae"
      },
      "execution_count": 111,
      "outputs": [
        {
          "output_type": "execute_result",
          "data": {
            "text/plain": [
              "<tf.Variable 'Variable:0' shape=() dtype=float32, numpy=0.0>"
            ]
          },
          "metadata": {},
          "execution_count": 111
        }
      ]
    },
    {
      "cell_type": "code",
      "source": [
        "model.variables"
      ],
      "metadata": {
        "colab": {
          "base_uri": "https://localhost:8080/"
        },
        "id": "GnGxfMAFaRFJ",
        "outputId": "88902b81-5171-470e-c316-eabe2bcb5142"
      },
      "execution_count": 112,
      "outputs": [
        {
          "output_type": "execute_result",
          "data": {
            "text/plain": [
              "(<tf.Variable 'Variable:0' shape=() dtype=float32, numpy=0.0>,\n",
              " <tf.Variable 'Variable:0' shape=() dtype=float32, numpy=5.0>)"
            ]
          },
          "metadata": {},
          "execution_count": 112
        }
      ]
    },
    {
      "cell_type": "markdown",
      "source": [
        "##Define Loss function"
      ],
      "metadata": {
        "id": "xIm7rF1AuZ2H"
      }
    },
    {
      "cell_type": "code",
      "source": [
        "def MSE_loss(target_y, predicted_y):\n",
        "  \n",
        "  error = target_y - predicted_y\n",
        "\n",
        "  squared_error = tf.square(error)\n",
        "\n",
        "  mse = tf.reduce_mean(squared_error)\n",
        "\n",
        "  return mse"
      ],
      "metadata": {
        "id": "5oVziOEvaRIV"
      },
      "execution_count": 113,
      "outputs": []
    },
    {
      "cell_type": "code",
      "source": [
        "plt.scatter(x,y, c=\"b\")\n",
        "\n",
        "\n",
        "pred_y = model(x)\n",
        "plt.scatter(x, pred_y, c = \"r\")\n",
        "\n",
        "plt.show()"
      ],
      "metadata": {
        "colab": {
          "base_uri": "https://localhost:8080/",
          "height": 430
        },
        "id": "xtrypnsDaRLf",
        "outputId": "75b7070a-0ec5-479b-cf92-df6c9ddcd588"
      },
      "execution_count": 114,
      "outputs": [
        {
          "output_type": "display_data",
          "data": {
            "text/plain": [
              "<Figure size 640x480 with 1 Axes>"
            ],
            "image/png": "[encoded data removed]"
          },
          "metadata": {}
        }
      ]
    },
    {
      "cell_type": "code",
      "source": [
        "current_loss = MSE_loss(y, model(x))\n",
        "current_loss.numpy()"
      ],
      "metadata": {
        "colab": {
          "base_uri": "https://localhost:8080/"
        },
        "id": "jJkx3xFRaRPB",
        "outputId": "4c3da93a-b5a4-49d6-ca08-fb26cc822912"
      },
      "execution_count": 115,
      "outputs": [
        {
          "output_type": "execute_result",
          "data": {
            "text/plain": [
              "9.373816"
            ]
          },
          "metadata": {},
          "execution_count": 115
        }
      ]
    },
    {
      "cell_type": "markdown",
      "source": [
        "##training function def"
      ],
      "metadata": {
        "id": "hePLM-TU4ld5"
      }
    },
    {
      "cell_type": "code",
      "source": [
        "def train(model, x, y, learning_rate):\n",
        "\n",
        "  with tf.GradientTape() as tape:\n",
        "    current_loss = MSE_loss(y, model(x))\n",
        "\n",
        "    dc_dw, dc_db = tape.gradient(current_loss, [model.w, model.b])\n",
        "\n",
        "    model.w.assign_sub(learning_rate * dc_dw)\n",
        "    model.b.assign_sub(learning_rate * dc_db)"
      ],
      "metadata": {
        "id": "r1FsO34TaRSZ"
      },
      "execution_count": 116,
      "outputs": []
    },
    {
      "cell_type": "code",
      "source": [
        "model = MyModel()\n",
        "\n",
        "Ws, bs = [], []\n",
        "\n",
        "epochs = 10*2\n",
        "\n",
        "learning_rate = 0.1\n",
        "\n",
        "w =model.w.numpy()\n",
        "b = model.b.numpy()\n",
        "\n",
        "init_loss = MSE_loss(y, model(x)).numpy()\n",
        "\n",
        "print(f\"Initial W: {w}, initial bias: {b}, initial_loss: {init_loss}\")"
      ],
      "metadata": {
        "colab": {
          "base_uri": "https://localhost:8080/"
        },
        "id": "R0OISxqEaRVj",
        "outputId": "474923be-0fbf-4df5-a466-192897fb7074"
      },
      "execution_count": 117,
      "outputs": [
        {
          "output_type": "stream",
          "name": "stdout",
          "text": [
            "Initial W: 5.0, initial bias: 0.0, initial_loss: 9.373815536499023\n"
          ]
        }
      ]
    },
    {
      "cell_type": "code",
      "source": [
        "for epoch in range(epochs):\n",
        "  train(model, x, y, learning_rate)\n",
        "\n",
        "  Ws.append(model.w.numpy())\n",
        "  bs.append(model.b.numpy())\n",
        "\n",
        "  current_loss = MSE_loss(y, model(x))\n",
        "\n",
        "  print(f\"For epoch: {epoch}, W: {Ws[-1]}, b: {bs[-1]}, current_loss: {current_loss}\")"
      ],
      "metadata": {
        "colab": {
          "base_uri": "https://localhost:8080/"
        },
        "id": "TGa9pITYaRY9",
        "outputId": "580acd56-00c4-45a7-be45-73c58e57bc11"
      },
      "execution_count": 118,
      "outputs": [
        {
          "output_type": "stream",
          "name": "stdout",
          "text": [
            "For epoch: 0, W: 4.585995197296143, b: 0.4167579710483551, current_loss: 6.278080940246582\n",
            "For epoch: 1, W: 4.2557597160339355, b: 0.7463033199310303, current_loss: 4.325486183166504\n",
            "For epoch: 2, W: 3.992316961288452, b: 1.0068597793579102, current_loss: 3.0938165187835693\n",
            "For epoch: 3, W: 3.7821359634399414, b: 1.2128480672836304, current_loss: 2.3168318271636963\n",
            "For epoch: 4, W: 3.6144306659698486, b: 1.375678539276123, current_loss: 1.8266379833221436\n",
            "For epoch: 5, W: 3.480602979660034, b: 1.5043789148330688, current_loss: 1.5173500776290894\n",
            "For epoch: 6, W: 3.373797655105591, b: 1.6060911417007446, current_loss: 1.3221864700317383\n",
            "For epoch: 7, W: 3.2885491847991943, b: 1.6864649057388306, current_loss: 1.1990242004394531\n",
            "For epoch: 8, W: 3.220499038696289, b: 1.7499688863754272, current_loss: 1.1212917566299438\n",
            "For epoch: 9, W: 3.1661715507507324, b: 1.8001374006271362, current_loss: 1.0722267627716064\n",
            "For epoch: 10, W: 3.1227946281433105, b: 1.8397655487060547, current_loss: 1.0412532091140747\n",
            "For epoch: 11, W: 3.0881567001342773, b: 1.8710635900497437, current_loss: 1.0216978788375854\n",
            "For epoch: 12, W: 3.0604941844940186, b: 1.8957788944244385, current_loss: 1.009350061416626\n",
            "For epoch: 13, W: 3.0383996963500977, b: 1.9152932167053223, current_loss: 1.0015523433685303\n",
            "For epoch: 14, W: 3.0207502841949463, b: 1.9306986331939697, current_loss: 0.9966273307800293\n",
            "For epoch: 15, W: 3.006649971008301, b: 1.942858338356018, current_loss: 0.9935161471366882\n",
            "For epoch: 16, W: 2.9953837394714355, b: 1.9524545669555664, current_loss: 0.9915506839752197\n",
            "For epoch: 17, W: 2.9863810539245605, b: 1.960026502609253, current_loss: 0.9903086423873901\n",
            "For epoch: 18, W: 2.9791860580444336, b: 1.9660000801086426, current_loss: 0.9895238876342773\n",
            "For epoch: 19, W: 2.9734349250793457, b: 1.9707118272781372, current_loss: 0.989027738571167\n"
          ]
        }
      ]
    },
    {
      "cell_type": "code",
      "source": [
        "plt.plot(range(epochs), Ws, 'r', range(epochs), bs, \"b\")\n",
        "\n",
        "plt.plot([TRUE_W] * epochs, \"r--\", [TRUE_B] * epochs, \"b--\")\n",
        "\n",
        "plt.legend([\"W\", \"b\", \"True W\", \"True B\"])\n",
        "\n",
        "plt.show()"
      ],
      "metadata": {
        "colab": {
          "base_uri": "https://localhost:8080/",
          "height": 430
        },
        "id": "_6oVkdKQaRcW",
        "outputId": "7f2c05b8-27f6-4e8b-9bd6-aea9d5c997fc"
      },
      "execution_count": 119,
      "outputs": [
        {
          "output_type": "display_data",
          "data": {
            "text/plain": [
              "<Figure size 640x480 with 1 Axes>"
            ],
            "image/png": "[encoded data removed]"
          },
          "metadata": {}
        }
      ]
    },
    {
      "cell_type": "code",
      "source": [
        "plt.scatter(x,y, c=\"b\")\n",
        "\n",
        "pred_y = model(x) ## after training\n",
        "\n",
        "plt.scatter(x, pred_y, c = \"r\")\n",
        "\n",
        "plt.show()"
      ],
      "metadata": {
        "colab": {
          "base_uri": "https://localhost:8080/",
          "height": 430
        },
        "id": "wHf9aZWOaRfx",
        "outputId": "227ce895-447b-4ae3-d738-acdf6eec8275"
      },
      "execution_count": 120,
      "outputs": [
        {
          "output_type": "display_data",
          "data": {
            "text/plain": [
              "<Figure size 640x480 with 1 Axes>"
            ],
            "image/png": "[encoded data removed]"
          },
          "metadata": {}
        }
      ]
    },
    {
      "cell_type": "code",
      "source": [],
      "metadata": {
        "id": "WUXNOFSaaRjG"
      },
      "execution_count": 117,
      "outputs": []
    }
  ]
}